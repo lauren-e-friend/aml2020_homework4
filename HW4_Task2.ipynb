{
 "cells": [
  {
   "cell_type": "code",
   "execution_count": 1,
   "metadata": {},
   "outputs": [],
   "source": [
    "import pandas as pd \n",
    "import matplotlib.pyplot as plt\n",
    "import numpy as np\n",
    "import sklearn\n",
    "from sklearn.impute import SimpleImputer, KNNImputer\n",
    "from category_encoders import TargetEncoder\n",
    "from sklearn import preprocessing\n",
    "from sklearn.pipeline import make_pipeline\n",
    "from sklearn.compose import make_column_transformer\n",
    "from sklearn.model_selection import train_test_split, KFold, cross_val_score, GridSearchCV, cross_validate\n",
    "from sklearn.linear_model import Lasso, Ridge, RidgeCV\n",
    "from sklearn.feature_extraction.text import CountVectorizer, TfidfVectorizer\n",
    "import seaborn as sns\n",
    "import gensim\n",
    "import warnings\n",
    "import spacy\n",
    "from pandas.core.common import SettingWithCopyWarning"
   ]
  },
  {
   "cell_type": "code",
   "execution_count": 2,
   "metadata": {},
   "outputs": [],
   "source": [
    "warnings.simplefilter(action=\"ignore\", category=SettingWithCopyWarning)"
   ]
  },
  {
   "cell_type": "markdown",
   "metadata": {},
   "source": [
    "# Task 2 - Word Vectors"
   ]
  },
  {
   "cell_type": "code",
   "execution_count": 3,
   "metadata": {},
   "outputs": [],
   "source": [
    "# Read data and drop all non-US wines\n",
    "wine_data_130 = pd.read_csv('wine-reviews/winemag-data-130k-v2.csv', index_col=0)\n",
    "wine_data_130 = wine_data_130[wine_data_130['country'] == 'US'] "
   ]
  },
  {
   "cell_type": "code",
   "execution_count": 4,
   "metadata": {},
   "outputs": [],
   "source": [
    "#drop everything below a 95% condidence interval \n",
    "def remove_minor_outlier(df, columns):\n",
    "    low = 0\n",
    "    high = .95\n",
    "    quant_df = df.quantile([low, high])\n",
    "    for name in list(columns):\n",
    "        df = df[(df[name] > quant_df.loc[low, name]) & (df[name] < quant_df.loc[high, name])]\n",
    "    return df"
   ]
  },
  {
   "cell_type": "code",
   "execution_count": 5,
   "metadata": {},
   "outputs": [],
   "source": [
    "def remove_cat_outlier(df, column):\n",
    "    num_low_values = len([x for x in df[str(column)].dropna().value_counts() if x < 5])\n",
    "    low_value_list = list(pd.Series(df[str(column)].dropna().value_counts()[-num_low_values:]).index)\n",
    "    output = df[~df[column].isin(low_value_list)]\n",
    "    return output"
   ]
  },
  {
   "cell_type": "markdown",
   "metadata": {},
   "source": [
    "## Remove Outliers + Sample Data\n",
    "- Remove outliers, sample data, drop country column and seperate 'points' from training data"
   ]
  },
  {
   "cell_type": "code",
   "execution_count": 6,
   "metadata": {},
   "outputs": [],
   "source": [
    "wine_data_130 = wine_data_130[wine_data_130['points'] <=98]\n",
    "wine_data_130 = remove_minor_outlier(wine_data_130,['price']) #removing the outliers"
   ]
  },
  {
   "cell_type": "code",
   "execution_count": 7,
   "metadata": {},
   "outputs": [],
   "source": [
    "#dropping categories that have less than 5 entries \n",
    "wine_data_130 = remove_cat_outlier(wine_data_130,'region_1')\n",
    "wine_data_130 = remove_cat_outlier(wine_data_130,'province')\n",
    "wine_data_130 = remove_cat_outlier(wine_data_130,'variety')\n",
    "wine_data_130 = remove_cat_outlier(wine_data_130,'winery')\n",
    "wine_data_130 = remove_cat_outlier(wine_data_130,'designation')"
   ]
  },
  {
   "cell_type": "code",
   "execution_count": 8,
   "metadata": {},
   "outputs": [],
   "source": [
    "wine_data_130 = wine_data_130.drop(columns=['taster_twitter_handle'])"
   ]
  },
  {
   "cell_type": "code",
   "execution_count": 9,
   "metadata": {},
   "outputs": [],
   "source": [
    "# Remove outliers and sample data, taking half of the dataset\n",
    "wine_data_130 = wine_data_130.sample(frac=0.5)"
   ]
  },
  {
   "cell_type": "code",
   "execution_count": 10,
   "metadata": {},
   "outputs": [
    {
     "data": {
      "text/html": [
       "<div>\n",
       "<style scoped>\n",
       "    .dataframe tbody tr th:only-of-type {\n",
       "        vertical-align: middle;\n",
       "    }\n",
       "\n",
       "    .dataframe tbody tr th {\n",
       "        vertical-align: top;\n",
       "    }\n",
       "\n",
       "    .dataframe thead th {\n",
       "        text-align: right;\n",
       "    }\n",
       "</style>\n",
       "<table border=\"1\" class=\"dataframe\">\n",
       "  <thead>\n",
       "    <tr style=\"text-align: right;\">\n",
       "      <th></th>\n",
       "      <th>description</th>\n",
       "      <th>designation</th>\n",
       "      <th>price</th>\n",
       "      <th>province</th>\n",
       "      <th>region_1</th>\n",
       "      <th>region_2</th>\n",
       "      <th>taster_name</th>\n",
       "      <th>title</th>\n",
       "      <th>variety</th>\n",
       "      <th>winery</th>\n",
       "    </tr>\n",
       "  </thead>\n",
       "  <tbody>\n",
       "    <tr>\n",
       "      <th>97244</th>\n",
       "      <td>Seductive aromas of caramel, fresh-crushed sod...</td>\n",
       "      <td>Sanford &amp; Benedict Vineyard</td>\n",
       "      <td>36.0</td>\n",
       "      <td>California</td>\n",
       "      <td>Sta. Rita Hills</td>\n",
       "      <td>Central Coast</td>\n",
       "      <td>Matt Kettmann</td>\n",
       "      <td>Sanford 2012 Sanford &amp; Benedict Vineyard Viogn...</td>\n",
       "      <td>Viognier</td>\n",
       "      <td>Sanford</td>\n",
       "    </tr>\n",
       "    <tr>\n",
       "      <th>10742</th>\n",
       "      <td>A blend of 60% Syrah from Ambassador Vineyard ...</td>\n",
       "      <td>NaN</td>\n",
       "      <td>29.0</td>\n",
       "      <td>Washington</td>\n",
       "      <td>Red Mountain</td>\n",
       "      <td>Columbia Valley</td>\n",
       "      <td>Sean P. Sullivan</td>\n",
       "      <td>Corvus 2010 Syrah-Petite Sirah (Red Mountain)</td>\n",
       "      <td>Syrah-Petite Sirah</td>\n",
       "      <td>Corvus</td>\n",
       "    </tr>\n",
       "    <tr>\n",
       "      <th>74763</th>\n",
       "      <td>There are only a few examples of Grüner Veltli...</td>\n",
       "      <td>NaN</td>\n",
       "      <td>24.0</td>\n",
       "      <td>Washington</td>\n",
       "      <td>Washington</td>\n",
       "      <td>Washington Other</td>\n",
       "      <td>Sean P. Sullivan</td>\n",
       "      <td>Syncline 2016 Grüner Veltliner (Washington)</td>\n",
       "      <td>Grüner Veltliner</td>\n",
       "      <td>Syncline</td>\n",
       "    </tr>\n",
       "    <tr>\n",
       "      <th>128054</th>\n",
       "      <td>White flowers, nectarine, red apple and a stee...</td>\n",
       "      <td>NaN</td>\n",
       "      <td>33.0</td>\n",
       "      <td>California</td>\n",
       "      <td>Santa Barbara County</td>\n",
       "      <td>Central Coast</td>\n",
       "      <td>Matt Kettmann</td>\n",
       "      <td>Sandhi 2013 Chardonnay (Santa Barbara County)</td>\n",
       "      <td>Chardonnay</td>\n",
       "      <td>Sandhi</td>\n",
       "    </tr>\n",
       "    <tr>\n",
       "      <th>83677</th>\n",
       "      <td>Shows some Riesling character in the petrol, h...</td>\n",
       "      <td>Dry</td>\n",
       "      <td>18.0</td>\n",
       "      <td>California</td>\n",
       "      <td>Central Coast</td>\n",
       "      <td>Central Coast</td>\n",
       "      <td>NaN</td>\n",
       "      <td>Claiborne &amp; Churchill 2007 Dry Riesling (Centr...</td>\n",
       "      <td>Riesling</td>\n",
       "      <td>Claiborne &amp; Churchill</td>\n",
       "    </tr>\n",
       "  </tbody>\n",
       "</table>\n",
       "</div>"
      ],
      "text/plain": [
       "                                              description  \\\n",
       "97244   Seductive aromas of caramel, fresh-crushed sod...   \n",
       "10742   A blend of 60% Syrah from Ambassador Vineyard ...   \n",
       "74763   There are only a few examples of Grüner Veltli...   \n",
       "128054  White flowers, nectarine, red apple and a stee...   \n",
       "83677   Shows some Riesling character in the petrol, h...   \n",
       "\n",
       "                        designation  price    province              region_1  \\\n",
       "97244   Sanford & Benedict Vineyard   36.0  California       Sta. Rita Hills   \n",
       "10742                           NaN   29.0  Washington          Red Mountain   \n",
       "74763                           NaN   24.0  Washington            Washington   \n",
       "128054                          NaN   33.0  California  Santa Barbara County   \n",
       "83677                           Dry   18.0  California         Central Coast   \n",
       "\n",
       "                region_2       taster_name  \\\n",
       "97244      Central Coast     Matt Kettmann   \n",
       "10742    Columbia Valley  Sean P. Sullivan   \n",
       "74763   Washington Other  Sean P. Sullivan   \n",
       "128054     Central Coast     Matt Kettmann   \n",
       "83677      Central Coast               NaN   \n",
       "\n",
       "                                                    title             variety  \\\n",
       "97244   Sanford 2012 Sanford & Benedict Vineyard Viogn...            Viognier   \n",
       "10742       Corvus 2010 Syrah-Petite Sirah (Red Mountain)  Syrah-Petite Sirah   \n",
       "74763         Syncline 2016 Grüner Veltliner (Washington)    Grüner Veltliner   \n",
       "128054      Sandhi 2013 Chardonnay (Santa Barbara County)          Chardonnay   \n",
       "83677   Claiborne & Churchill 2007 Dry Riesling (Centr...            Riesling   \n",
       "\n",
       "                       winery  \n",
       "97244                 Sanford  \n",
       "10742                  Corvus  \n",
       "74763                Syncline  \n",
       "128054                 Sandhi  \n",
       "83677   Claiborne & Churchill  "
      ]
     },
     "execution_count": 10,
     "metadata": {},
     "output_type": "execute_result"
    }
   ],
   "source": [
    "points = wine_data_130['points']\n",
    "X = wine_data_130.drop(columns=['country', 'points'])\n",
    "X.head()"
   ]
  },
  {
   "cell_type": "markdown",
   "metadata": {},
   "source": [
    "## Impute Missing Values"
   ]
  },
  {
   "cell_type": "code",
   "execution_count": 11,
   "metadata": {},
   "outputs": [],
   "source": [
    "categorical = ['designation', 'province', 'region_1', 'region_2', 'variety', 'winery', 'taster_name']\n",
    "continuous = ['price']\n",
    "impute_categorical = SimpleImputer(strategy='most_frequent', missing_values=np.nan)\n",
    "impute_float = KNNImputer(missing_values=np.nan)"
   ]
  },
  {
   "cell_type": "code",
   "execution_count": 12,
   "metadata": {},
   "outputs": [],
   "source": [
    "X[categorical] = impute_categorical.fit_transform(X[categorical])\n",
    "X[continuous] = impute_float.fit_transform(X[continuous])"
   ]
  },
  {
   "cell_type": "markdown",
   "metadata": {},
   "source": [
    "## Train-Test Split"
   ]
  },
  {
   "cell_type": "code",
   "execution_count": 13,
   "metadata": {},
   "outputs": [],
   "source": [
    "X_train, X_test, y_train, y_test = train_test_split(X, points, shuffle=True, random_state=0)\n",
    "cv_strategy = KFold(n_splits=10, shuffle=True, random_state=0)"
   ]
  },
  {
   "cell_type": "markdown",
   "metadata": {},
   "source": [
    "### Use a pretrained word-embedding for featurization instead of BoW"
   ]
  },
  {
   "cell_type": "markdown",
   "metadata": {},
   "source": [
    "- Word2Vec: a shallow neural network which takes a large set of words and produces a vector space (vectorizes the words)\n",
    "- Word vectors are positioned in the vector space such that words that share common contexts in the corpus are located in close proximity to one another in the space\n",
    "- Use pretrained Google Model which has 300 features (300 dimensions) trained on 3 million words\n",
    "- Includes some stop words while others are not included\n"
   ]
  },
  {
   "cell_type": "markdown",
   "metadata": {},
   "source": [
    "### Load a pretrained Google News Model"
   ]
  },
  {
   "cell_type": "code",
   "execution_count": 14,
   "metadata": {},
   "outputs": [
    {
     "name": "stdout",
     "output_type": "stream",
     "text": [
      "Number of words in model vocab: 3000000\n"
     ]
    }
   ],
   "source": [
    "model = gensim.models.KeyedVectors.load_word2vec_format('GoogleNews-vectors-negative300.bin.gz', binary=True)\n",
    "print(f'Number of words in model vocab: {len(model.vocab.keys())}')"
   ]
  },
  {
   "cell_type": "markdown",
   "metadata": {},
   "source": [
    "### Create a Spacy an empty nlp object and load the pretrained model into the object"
   ]
  },
  {
   "cell_type": "code",
   "execution_count": 15,
   "metadata": {},
   "outputs": [
    {
     "name": "stdout",
     "output_type": "stream",
     "text": [
      "The dimensions of pretrained model: (3000000, 300)\n"
     ]
    }
   ],
   "source": [
    "# Create a blank english object\n",
    "nlp = spacy.blank('en')\n",
    "keys = []\n",
    "for idx in range(len(model.vocab.keys())):\n",
    "    keys.append(model.index2word[idx])\n",
    "\n",
    "# Set the vectors for our nlp object to the google news vectors\n",
    "nlp.vocab.vectors = spacy.vocab.Vectors(data=model.vectors, keys=keys)\n",
    "print(f'The dimensions of pretrained model: {nlp.vocab.vectors.shape}')"
   ]
  },
  {
   "cell_type": "markdown",
   "metadata": {},
   "source": [
    "### Use the model to featurize the 'description' and 'title' text features\n",
    "- Will create a 300 dimension word vector for each word in the 'description'\n",
    "- Final output is an average of all the word vectors in the paragraph"
   ]
  },
  {
   "cell_type": "code",
   "execution_count": 16,
   "metadata": {},
   "outputs": [],
   "source": [
    "desc_vec = [nlp(x).vector for x in X_train['description']]\n",
    "title_vec = [nlp(x).vector for x in X_train['title']]"
   ]
  },
  {
   "cell_type": "code",
   "execution_count": 17,
   "metadata": {},
   "outputs": [],
   "source": [
    "title_coded = np.vstack(title_vec)\n",
    "description_coded = np.vstack(desc_vec)"
   ]
  },
  {
   "cell_type": "code",
   "execution_count": 18,
   "metadata": {},
   "outputs": [],
   "source": [
    "total_coded = np.concatenate((description_coded, title_coded), axis=1)"
   ]
  },
  {
   "cell_type": "markdown",
   "metadata": {},
   "source": [
    "### Train linear models only using the 'description' and 'title' text features"
   ]
  },
  {
   "cell_type": "code",
   "execution_count": 19,
   "metadata": {},
   "outputs": [
    {
     "data": {
      "text/plain": [
       "0.5727407081940231"
      ]
     },
     "execution_count": 19,
     "metadata": {},
     "output_type": "execute_result"
    }
   ],
   "source": [
    "param_grid = {'alpha': np.logspace(-3,3,15)}\n",
    "ridge_grid = GridSearchCV(Ridge(), param_grid, cv=cv_strategy, n_jobs=-1, return_train_score=True)\n",
    "ridge_grid.fit(total_coded, y_train)\n",
    "ridge_grid.best_score_"
   ]
  },
  {
   "cell_type": "code",
   "execution_count": 20,
   "metadata": {},
   "outputs": [
    {
     "data": {
      "text/plain": [
       "0.5315037859077342"
      ]
     },
     "execution_count": 20,
     "metadata": {},
     "output_type": "execute_result"
    }
   ],
   "source": [
    "param_grid = {'alpha': np.logspace(-3,3,15)}\n",
    "lasso_grid = GridSearchCV(Lasso(), param_grid, cv=cv_strategy, n_jobs=-1, return_train_score=True)\n",
    "lasso_grid.fit(total_coded, y_train)\n",
    "lasso_grid.best_score_"
   ]
  },
  {
   "cell_type": "markdown",
   "metadata": {},
   "source": [
    "### Use a combination of text and non-text features"
   ]
  },
  {
   "cell_type": "code",
   "execution_count": 19,
   "metadata": {},
   "outputs": [],
   "source": [
    "# Encode categorical features \n",
    "to_target_encode = ['designation', 'winery', 'variety', 'region_1', 'region_2']\n",
    "to_ohe = ['province', 'taster_name']\n",
    "to_scale = ['price']\n",
    "# Create column transformer\n",
    "ohe = make_pipeline(preprocessing.OneHotEncoder(handle_unknown='ignore'))\n",
    "scale = make_pipeline(preprocessing.StandardScaler())\n",
    "te = make_pipeline(TargetEncoder(), preprocessing.StandardScaler())\n",
    "preprocessing_pipe = make_column_transformer((ohe, to_ohe),\n",
    "                                             (te, to_target_encode),\n",
    "                                             (scale, to_scale),\n",
    "                                             remainder='passthrough')"
   ]
  },
  {
   "cell_type": "code",
   "execution_count": 20,
   "metadata": {},
   "outputs": [],
   "source": [
    "X_train_no_text = X_train.drop(columns=['title', 'description'])\n",
    "X_train_no_text_processed = pd.DataFrame(preprocessing_pipe.fit_transform(X_train_no_text, y_train).toarray())"
   ]
  },
  {
   "cell_type": "code",
   "execution_count": 21,
   "metadata": {},
   "outputs": [],
   "source": [
    "X_train_encoded = np.concatenate((description_coded, title_coded, X_train_no_text_processed), axis=1)"
   ]
  },
  {
   "cell_type": "code",
   "execution_count": 24,
   "metadata": {},
   "outputs": [
    {
     "data": {
      "text/plain": [
       "0.7052085357539686"
      ]
     },
     "execution_count": 24,
     "metadata": {},
     "output_type": "execute_result"
    }
   ],
   "source": [
    "param_grid = {'alpha': np.logspace(-3,3,15)}\n",
    "ridge_grid = GridSearchCV(Ridge(), param_grid, cv=cv_strategy, n_jobs=-1, return_train_score=True)\n",
    "ridge_grid.fit(X_train_encoded, y_train)\n",
    "ridge_grid.best_score_"
   ]
  },
  {
   "cell_type": "code",
   "execution_count": 25,
   "metadata": {},
   "outputs": [
    {
     "data": {
      "text/plain": [
       "0.685589829381158"
      ]
     },
     "execution_count": 25,
     "metadata": {},
     "output_type": "execute_result"
    }
   ],
   "source": [
    "param_grid = {'alpha': np.logspace(-3,3,15)}\n",
    "lasso_grid = GridSearchCV(Lasso(), param_grid, cv=cv_strategy, n_jobs=-1, return_train_score=True)\n",
    "lasso_grid.fit(X_train_encoded, y_train)\n",
    "lasso_grid.best_score_"
   ]
  },
  {
   "cell_type": "markdown",
   "metadata": {},
   "source": [
    "### Does this improve classification?"
   ]
  },
  {
   "cell_type": "markdown",
   "metadata": {},
   "source": [
    "Compared to task 1, this did not imporove the regression performance. this is almost exactly the same as with the sklearn BOW model. "
   ]
  },
  {
   "cell_type": "markdown",
   "metadata": {},
   "source": [
    "### Combining Embedded Words with a BoW model"
   ]
  },
  {
   "cell_type": "markdown",
   "metadata": {},
   "source": [
    "- Think for this all we have to do is use BoW for one feature and then word2vec for the other text feature?"
   ]
  },
  {
   "cell_type": "code",
   "execution_count": 22,
   "metadata": {},
   "outputs": [],
   "source": [
    "#encode the text features for BoW \n",
    "#Ridge is the top performing model from task 1, so we will use it here as a representation of BoW\n",
    "ridge_description_tfid_vect = TfidfVectorizer(\n",
    "                             max_features = 2500,\n",
    "                             min_df = 4,\n",
    "                             token_pattern=r\"\\b\\w[\\w’]+\\b\", \n",
    "                             lowercase=True,\n",
    "                             stop_words='english')\n",
    "\n",
    "ridge_title_tfid_vect = TfidfVectorizer(\n",
    "                             max_features = 5000,\n",
    "                             min_df = 1,\n",
    "                             token_pattern=r\"\\b\\w[\\w’]+\\b\", \n",
    "                             lowercase=True,\n",
    "                             stop_words='english')\n",
    "\n",
    "ridge_text_column_transformer = make_column_transformer(\n",
    "                                     (ridge_description_tfid_vect, 'description'), \n",
    "                                     (ridge_title_tfid_vect, 'title'),\n",
    "                                     remainder='drop')"
   ]
  },
  {
   "cell_type": "code",
   "execution_count": 34,
   "metadata": {},
   "outputs": [],
   "source": [
    "## In case you wanted to try Lasso \n",
    "\n",
    "lasso_tfid_vect = CountVectorizer(token_pattern=r\"\\b\\w[\\w’]+\\b\", \n",
    "                             lowercase=True,\n",
    "                             stop_words='english')\n",
    "\n",
    "lasso_text_column_transformer = make_column_transformer((lasso_tfid_vect, 'description'), \n",
    "                                     (lasso_tfid_vect, 'title'),\n",
    "                                     remainder='drop')"
   ]
  },
  {
   "cell_type": "code",
   "execution_count": 23,
   "metadata": {},
   "outputs": [],
   "source": [
    "X_train_bow_text = X_train[['description','title']]\n",
    "x_train_bow = pd.DataFrame(ridge_text_column_transformer.fit_transform(X_train_bow_text).toarray())\n",
    "X_train_encoded_bow = np.concatenate((X_train_encoded, x_train_bow), axis=1)"
   ]
  },
  {
   "cell_type": "markdown",
   "metadata": {},
   "source": [
    "### Evaluate Ridge"
   ]
  },
  {
   "cell_type": "code",
   "execution_count": 32,
   "metadata": {},
   "outputs": [
    {
     "data": {
      "text/plain": [
       "0.855179687215055"
      ]
     },
     "execution_count": 32,
     "metadata": {},
     "output_type": "execute_result"
    }
   ],
   "source": [
    "#cross_validate to determine performance  \n",
    "ridge_metrics = cross_validate(Ridge(alpha=2.154434690031882),\n",
    "                               X_train_encoded_bow, y_train, cv =cv_strategy, return_train_score=True)\n",
    "np.mean(ridge_metrics['train_score'])"
   ]
  },
  {
   "cell_type": "markdown",
   "metadata": {},
   "source": [
    "### Evaluate Lasso"
   ]
  },
  {
   "cell_type": "code",
   "execution_count": 35,
   "metadata": {},
   "outputs": [],
   "source": [
    "x_train_bow_lasso = pd.DataFrame(lasso_text_column_transformer.fit_transform(X_train_bow_text).toarray())\n",
    "X_train_encoded_bow_lasso = np.concatenate((X_train_encoded, x_train_bow_lasso), axis=1)"
   ]
  },
  {
   "cell_type": "code",
   "execution_count": 36,
   "metadata": {},
   "outputs": [
    {
     "data": {
      "text/plain": [
       "0.8160033694567923"
      ]
     },
     "execution_count": 36,
     "metadata": {},
     "output_type": "execute_result"
    }
   ],
   "source": [
    "lasso_metrics = cross_validate(Lasso(alpha=0.001),X_train_encoded_bow_lasso, y_train, cv =cv_strategy, return_train_score=True)\n",
    "np.mean(lasso_metrics['train_score'])"
   ]
  },
  {
   "cell_type": "markdown",
   "metadata": {},
   "source": [
    "### Graph Cross-Validation Results"
   ]
  },
  {
   "cell_type": "code",
   "execution_count": 37,
   "metadata": {},
   "outputs": [],
   "source": [
    "def graph_cv_results(lasso_metrics,ridge_metrics):\n",
    "\n",
    "    cvs_fig, ax = plt.subplots(1, 2, figsize=(15,5),sharex=True, sharey=True)\n",
    "    ax1, ax3, = ax.ravel()\n",
    "\n",
    "    ax1.plot(lasso_metrics['train_score'], color='blue')\n",
    "    ax1.plot(lasso_metrics['test_score'], color='orange')\n",
    "    ax1.set_title(f'Lasso BoW+Word2Vec performance', fontsize=20)\n",
    "    ax1.set_xlabel('fold', fontsize=15)\n",
    "    ax1.set_ylabel('score out of 1.0', fontsize=15)\n",
    "    ax1.legend(['train_score','test_score'])\n",
    "    ax3.plot(ridge_metrics['train_score'], color='blue')\n",
    "    ax3.plot(ridge_metrics['test_score'], color='orange')\n",
    "    ax3.set_title(f'Ridge BoW+Word2Vec performance', fontsize=20)\n",
    "    ax3.set_xlabel('fold', fontsize=15)\n",
    "    ax3.set_ylabel('score out of 1.0', fontsize=15)\n",
    "    ax3.legend(['train_score','test_score'])\n",
    "    cvs_fig.tight_layout()"
   ]
  },
  {
   "cell_type": "code",
   "execution_count": 38,
   "metadata": {},
   "outputs": [
    {
     "data": {
      "image/png": "[encoded data removed]",
      "text/plain": [
       "<Figure size 1080x360 with 2 Axes>"
      ]
     },
     "metadata": {
      "needs_background": "light"
     },
     "output_type": "display_data"
    }
   ],
   "source": [
    "graph_cv_results(lasso_metrics, ridge_metrics)"
   ]
  },
  {
   "cell_type": "markdown",
   "metadata": {},
   "source": [
    "### Of the above embeddings, use the best combination on the test set"
   ]
  },
  {
   "cell_type": "code",
   "execution_count": 40,
   "metadata": {},
   "outputs": [],
   "source": [
    "desc_vec_test = [nlp(x).vector for x in X_test['description']]\n",
    "title_vec_test = [nlp(x).vector for x in X_test['title']]\n",
    "title_coded_test = np.vstack(title_vec_test)\n",
    "description_coded_test = np.vstack(desc_vec_test)\n",
    "total_coded_test = np.concatenate((title_coded_test, description_coded_test), axis=1)"
   ]
  },
  {
   "cell_type": "code",
   "execution_count": 50,
   "metadata": {},
   "outputs": [],
   "source": [
    "X_test_no_text = X_test.drop(columns=['description', 'title'])\n",
    "X_test_no_text_processed = pd.DataFrame(preprocessing_pipe.transform(X_test_no_text).toarray())\n",
    "X_test_bow_text = X_test[['description','title']]\n",
    "x_test_bow = pd.DataFrame(ridge_text_column_transformer.transform(X_test_bow_text).toarray())"
   ]
  },
  {
   "cell_type": "code",
   "execution_count": 51,
   "metadata": {},
   "outputs": [],
   "source": [
    "X_test_encoded_bow = np.concatenate((total_coded_test, X_test_no_text_processed, x_test_bow), axis=1)"
   ]
  },
  {
   "cell_type": "code",
   "execution_count": 59,
   "metadata": {},
   "outputs": [
    {
     "data": {
      "text/plain": [
       "0.4693495736921256"
      ]
     },
     "execution_count": 59,
     "metadata": {},
     "output_type": "execute_result"
    }
   ],
   "source": [
    "ridge = Ridge(alpha=2.154434690031882)\n",
    "ridge.fit(X_train_encoded_bow, y_train)\n",
    "ridge.score(X_test_encoded_bow, y_test)"
   ]
  },
  {
   "cell_type": "markdown",
   "metadata": {},
   "source": [
    "# Conclusion:\n",
    "\n",
    "Based on the models above, the model using a combination of BoW and word2vec encoding while including the non-text features produced the highest cross-validation scores. The model did better than using just word2vec as well as when word2vec was only used. However, the performance on the test set was poor. This is likely because these encodedings each creat very large sparse matrices which can lead to very large number of parameters in linear models, that may overfit."
   ]
  }
 ],
 "metadata": {
  "kernelspec": {
   "display_name": "applied_ml",
   "language": "python",
   "name": "applied_ml"
  },
  "language_info": {
   "codemirror_mode": {
    "name": "ipython",
    "version": 3
   },
   "file_extension": ".py",
   "mimetype": "text/x-python",
   "name": "python",
   "nbconvert_exporter": "python",
   "pygments_lexer": "ipython3",
   "version": "3.7.6"
  }
 },
 "nbformat": 4,
 "nbformat_minor": 2
}
